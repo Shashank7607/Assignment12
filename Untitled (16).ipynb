{
 "cells": [
  {
   "cell_type": "code",
   "execution_count": 37,
   "id": "ae67bf29-0448-420a-95d2-2823247df8d2",
   "metadata": {},
   "outputs": [],
   "source": [
    "#ans 1"
   ]
  },
  {
   "cell_type": "code",
   "execution_count": 38,
   "id": "5c90ec32-8db9-4809-839b-bb1008608a33",
   "metadata": {},
   "outputs": [],
   "source": [
    "#Multithreading in Python refers to the execution of multiple threads (smaller units of a program) simultaneously within a single process. Threads are lightweight subprocesses that can run concurrently with other threads, sharing the same memory space and system resources. Multithreading is used to improve the performance and responsiveness of a program by utilizing the available resources more efficiently.\n",
    "\n",
    "#In Python, the threading module is used to handle threads. This module provides a way to create, start, and manage threads in a Python program. The threading module provides two types of classes for creating and managing threads: Thread and Lock. The Thread class is used to create and start new threads, while the Lock class is used to manage access to shared resources between threads to avoid race conditions."
   ]
  },
  {
   "cell_type": "code",
   "execution_count": 39,
   "id": "29c853f2-5f7b-499e-9d43-5e6fab424fd6",
   "metadata": {},
   "outputs": [
    {
     "name": "stdout",
     "output_type": "stream",
     "text": [
      "Hello from thread: Thread-5 (print_hello)\n",
      "Hello from thread: Thread-5 (print_hello)\n",
      "Hello from thread: Thread-5 (print_hello)\n",
      "Hello from thread: Thread-5 (print_hello)\n",
      "Hello from thread: Thread-5 (print_hello)\n",
      "Main thread exiting\n"
     ]
    }
   ],
   "source": [
    "import threading\n",
    "\n",
    "def print_hello():\n",
    "    for i in range(5):\n",
    "        print(\"Hello from thread:\", threading.current_thread().name)\n",
    "\n",
    "# Create a new thread and start it\n",
    "t = threading.Thread(target=print_hello)\n",
    "t.start()\n",
    "\n",
    "# Wait for the thread to finish\n",
    "t.join()\n",
    "\n",
    "print(\"Main thread exiting\")\n"
   ]
  },
  {
   "cell_type": "code",
   "execution_count": 40,
   "id": "63c1f5bf-a643-47c6-8fe1-2bdbee9a29cd",
   "metadata": {},
   "outputs": [],
   "source": [
    "#In this example, a new thread is created using the Thread class and its start() method is called to start the thread. The print_hello() function is executed by the new thread, which prints a message five times, each time indicating the name of the current thread. The main thread waits for the new thread to finish using the join() method and then exits.\n",
    "\n",
    "#Overall, multithreading in Python is a useful technique for improving the performance and responsiveness of a program, and the threading module provides an easy-to-use interface for creating and managing threads in a Python program."
   ]
  },
  {
   "cell_type": "code",
   "execution_count": 41,
   "id": "4a337b56-ed9a-4b7d-900d-2a42aaa49d9f",
   "metadata": {},
   "outputs": [],
   "source": [
    "#ans 2"
   ]
  },
  {
   "cell_type": "code",
   "execution_count": 42,
   "id": "b80aa0b1-1b3d-4027-8398-6bbc414c6466",
   "metadata": {},
   "outputs": [],
   "source": [
    "#The threading module in Python is used to create, start and manage threads in a Python program. It provides a simple and easy-to-use interface for handling threads.\n",
    "\n",
    "#activeCount() function returns the number of active threads in the current process. It is a class method of threading.Thread and can be called without creating an instance of the class. Here's an example of using activeCount()"
   ]
  },
  {
   "cell_type": "code",
   "execution_count": 43,
   "id": "a90281e3-2d69-4548-aeac-6f6a3ecd7258",
   "metadata": {},
   "outputs": [
    {
     "name": "stdout",
     "output_type": "stream",
     "text": [
      "Thread started\n",
      "Thread started\n",
      "Thread started\n",
      "Thread started\n",
      "Thread started\n",
      "Number of active threads: 8\n"
     ]
    },
    {
     "name": "stderr",
     "output_type": "stream",
     "text": [
      "/tmp/ipykernel_110/3804541513.py:11: DeprecationWarning: activeCount() is deprecated, use active_count() instead\n",
      "  print(\"Number of active threads:\", threading.activeCount())\n"
     ]
    }
   ],
   "source": [
    "import threading\n",
    "\n",
    "def worker():\n",
    "    print(\"Thread started\")\n",
    "\n",
    "# Create some threads\n",
    "for i in range(5):\n",
    "    threading.Thread(target=worker).start()\n",
    "\n",
    "# Print the number of active threads\n",
    "print(\"Number of active threads:\", threading.activeCount())\n"
   ]
  },
  {
   "cell_type": "code",
   "execution_count": 44,
   "id": "f0a9fb2d-2fca-4458-9275-0799cbe80eaf",
   "metadata": {},
   "outputs": [],
   "source": [
    "#n this example, we create 5 threads and start them using the Thread class. Then we print the number of active threads using the activeCount() function."
   ]
  },
  {
   "cell_type": "code",
   "execution_count": 45,
   "id": "e06003ce-326f-4985-b054-cf7f9d93073a",
   "metadata": {},
   "outputs": [],
   "source": [
    "# 2. currentThread() function returns the current thread object. It is a class method of threading.Thread and can be called without creating an instance of the class. Here's an example of using currentThread()"
   ]
  },
  {
   "cell_type": "code",
   "execution_count": 46,
   "id": "262aeae4-e8a6-4305-a003-f7dec62b9b5b",
   "metadata": {},
   "outputs": [
    {
     "name": "stdout",
     "output_type": "stream",
     "text": [
      "Thread name: Thread-11 (worker)\n",
      "Thread name: Thread-12 (worker)\n",
      "Thread name: Thread-13 (worker)\n",
      "Thread name: Thread-14 (worker)\n",
      "Thread name: Thread-15 (worker)\n"
     ]
    },
    {
     "name": "stderr",
     "output_type": "stream",
     "text": [
      "/tmp/ipykernel_110/3971328806.py:4: DeprecationWarning: currentThread() is deprecated, use current_thread() instead\n",
      "  print(\"Thread name:\", threading.currentThread().name)\n"
     ]
    }
   ],
   "source": [
    "import threading\n",
    "\n",
    "def worker():\n",
    "    print(\"Thread name:\", threading.currentThread().name)\n",
    "\n",
    "# Create some threads\n",
    "for i in range(5):\n",
    "    threading.Thread(target=worker).start()\n"
   ]
  },
  {
   "cell_type": "code",
   "execution_count": 47,
   "id": "3e80e793-1e2a-4607-8cd1-1b24b5c22df6",
   "metadata": {},
   "outputs": [],
   "source": [
    "#In this example, we create 5 threads and start them using the Thread class. Then we print the name of the current thread using the currentThread() function."
   ]
  },
  {
   "cell_type": "code",
   "execution_count": 48,
   "id": "8b21f5e1-8e18-472b-907a-95c80820dbea",
   "metadata": {},
   "outputs": [],
   "source": [
    "# 3. enumerate() function returns a list of all active thread objects in the current process. It is a class method of threading.Thread and can be called without creating an instance of the class. Here's an example of using enumerate():"
   ]
  },
  {
   "cell_type": "code",
   "execution_count": 49,
   "id": "0f571abc-d8df-4684-a679-cbc0ba4b2276",
   "metadata": {},
   "outputs": [
    {
     "name": "stdout",
     "output_type": "stream",
     "text": [
      "Thread started\n",
      "Thread started\n",
      "Thread started\n",
      "Thread started\n",
      "Thread started\n",
      "Thread name: MainThread\n",
      "Thread name: IOPub\n",
      "Thread name: Heartbeat\n",
      "Thread name: Thread-3 (_watch_pipe_fd)\n",
      "Thread name: Thread-4 (_watch_pipe_fd)\n",
      "Thread name: Control\n",
      "Thread name: IPythonHistorySavingThread\n",
      "Thread name: Thread-2\n"
     ]
    }
   ],
   "source": [
    "import threading\n",
    "\n",
    "def worker():\n",
    "    print(\"Thread started\")\n",
    "\n",
    "# Create some threads\n",
    "for i in range(5):\n",
    "    threading.Thread(target=worker).start()\n",
    "\n",
    "# Get a list of all active threads\n",
    "threads = threading.enumerate()\n",
    "\n",
    "# Print the list of active threads\n",
    "for thread in threads:\n",
    "    print(\"Thread name:\", thread.name)\n"
   ]
  },
  {
   "cell_type": "code",
   "execution_count": 50,
   "id": "c62708fe-d43d-468d-92f7-09f4f68cb627",
   "metadata": {},
   "outputs": [],
   "source": [
    "#In this example, we create 5 threads and start them using the Thread class. Then we get a list of all active threads using the enumerate() function and print the name of each thread"
   ]
  },
  {
   "cell_type": "code",
   "execution_count": 51,
   "id": "d90b41e4-f3c9-4e2c-9738-ab4b35f37edb",
   "metadata": {},
   "outputs": [],
   "source": [
    "#ans 4 "
   ]
  },
  {
   "cell_type": "code",
   "execution_count": 52,
   "id": "05bfc81d-01da-4552-895b-0b9527f81aac",
   "metadata": {},
   "outputs": [],
   "source": [
    "#The following are the explanations of the four functions in the threading module in Python:\n",
    "\n",
    "# 1. run() method is the entry point of a thread, which is called when the start() method is called. The run() method contains the code that will be executed in the new thread. When the run() method completes, the thread terminates.\n",
    "\n",
    "# 2. start() method starts the thread by calling its run() method in a separate thread of execution. The start() method does not wait for the thread to complete; it simply returns immediately.\n",
    "\n",
    "# 3. join() method waits for the thread to complete. The calling thread is blocked until the thread whose join() method is called completes or terminates. Here's an example:"
   ]
  },
  {
   "cell_type": "code",
   "execution_count": 53,
   "id": "ccaaafdc-ee89-4516-9c2e-ac961adba24f",
   "metadata": {},
   "outputs": [
    {
     "name": "stdout",
     "output_type": "stream",
     "text": [
      "Thread started\n",
      "Thread finished\n",
      "All threads completed\n"
     ]
    }
   ],
   "source": [
    "import threading\n",
    "\n",
    "def worker():\n",
    "    print(\"Thread started\")\n",
    "    # Do some work here...\n",
    "    print(\"Thread finished\")\n",
    "\n",
    "# Create a thread\n",
    "t = threading.Thread(target=worker)\n",
    "\n",
    "# Start the thread\n",
    "t.start()\n",
    "\n",
    "# Wait for the thread to complete\n",
    "t.join()\n",
    "\n",
    "print(\"All threads completed\")\n"
   ]
  },
  {
   "cell_type": "code",
   "execution_count": 54,
   "id": "25cf2a1d-586d-460d-aae7-86d2cba26d4b",
   "metadata": {},
   "outputs": [],
   "source": [
    "#In this example, we create a thread using the Thread class and start it using the start() method. Then we wait for the thread to complete using the join() method. Finally, we print a message indicating that all threads have completed."
   ]
  },
  {
   "cell_type": "code",
   "execution_count": 55,
   "id": "3dcb43da-6ca5-4ffc-9e96-bcd7e4b2c36a",
   "metadata": {},
   "outputs": [],
   "source": [
    "# 4. isAlive() method returns True if the thread is currently running, and False otherwise. Here's an example:"
   ]
  },
  {
   "cell_type": "code",
   "execution_count": 64,
   "id": "0d1c17dd-ff05-438a-8890-a4ca911dfbcf",
   "metadata": {},
   "outputs": [
    {
     "name": "stdout",
     "output_type": "stream",
     "text": [
      "Thread started\n",
      "Thread finished\n"
     ]
    },
    {
     "ename": "AttributeError",
     "evalue": "'Thread' object has no attribute 'isAlive'",
     "output_type": "error",
     "traceback": [
      "\u001b[0;31m---------------------------------------------------------------------------\u001b[0m",
      "\u001b[0;31mAttributeError\u001b[0m                            Traceback (most recent call last)",
      "Cell \u001b[0;32mIn[64], line 19\u001b[0m\n\u001b[1;32m     16\u001b[0m t\u001b[38;5;241m.\u001b[39mjoin()\n\u001b[1;32m     18\u001b[0m \u001b[38;5;66;03m# Check if the thread is still running\u001b[39;00m\n\u001b[0;32m---> 19\u001b[0m \u001b[38;5;28;01mif\u001b[39;00m \u001b[43mt\u001b[49m\u001b[38;5;241;43m.\u001b[39;49m\u001b[43misAlive\u001b[49m():\n\u001b[1;32m     20\u001b[0m     \u001b[38;5;28mprint\u001b[39m(\u001b[38;5;124m\"\u001b[39m\u001b[38;5;124mThread is still running\u001b[39m\u001b[38;5;124m\"\u001b[39m)\n\u001b[1;32m     21\u001b[0m \u001b[38;5;28;01melse\u001b[39;00m:\n",
      "\u001b[0;31mAttributeError\u001b[0m: 'Thread' object has no attribute 'isAlive'"
     ]
    }
   ],
   "source": [
    "import threading\n",
    "import time\n",
    "\n",
    "def worker():\n",
    "    print(\"Thread started\")\n",
    "    time.sleep(5)\n",
    "    print(\"Thread finished\")\n",
    "\n",
    "# Create a thread\n",
    "t = threading.Thread(target=worker)\n",
    "\n",
    "# Start the thread\n",
    "t.start()\n",
    "\n",
    "# Wait for the thread to complete\n",
    "t.join()\n",
    "\n",
    "# Check if the thread is still running\n",
    "if t.isAlive():\n",
    "    print(\"Thread is still running\")\n",
    "else:\n",
    "    print(\"Thread has completed\")\n"
   ]
  },
  {
   "cell_type": "code",
   "execution_count": 65,
   "id": "119dac2c-2aac-472d-aedf-2aaf1c4c1e10",
   "metadata": {},
   "outputs": [],
   "source": [
    "#ans 5"
   ]
  },
  {
   "cell_type": "code",
   "execution_count": 66,
   "id": "d086eb60-f51e-48a6-839b-6a6ace570884",
   "metadata": {},
   "outputs": [
    {
     "name": "stdout",
     "output_type": "stream",
     "text": [
      "Square of 1: 1\n",
      "Square of 2: 4\n",
      "Square of 3: 9\n",
      "Square of 4: 16\n",
      "Square of 5: 25\n",
      "Square of 6: 36\n",
      "Square of 7: 49\n",
      "Square of 8: 64\n",
      "Square of 9: 81\n",
      "Square of 10: 100\n",
      "Cube of 1: 1\n",
      "Cube of 2: 8\n",
      "Cube of 3: 27\n",
      "Cube of 4: 64\n",
      "Cube of 5: 125\n",
      "Cube of 6: 216\n",
      "Cube of 7: 343\n",
      "Cube of 8: 512\n",
      "Cube of 9: 729\n",
      "Cube of 10: 1000\n",
      "Done\n"
     ]
    }
   ],
   "source": [
    "import threading\n",
    "\n",
    "def print_squares():\n",
    "    for i in range(1, 11):\n",
    "        print(f\"Square of {i}: {i*i}\")\n",
    "\n",
    "def print_cubes():\n",
    "    for i in range(1, 11):\n",
    "        print(f\"Cube of {i}: {i*i*i}\")\n",
    "\n",
    "# Create two threads\n",
    "t1 = threading.Thread(target=print_squares)\n",
    "t2 = threading.Thread(target=print_cubes)\n",
    "\n",
    "# Start the threads\n",
    "t1.start()\n",
    "t2.start()\n",
    "\n",
    "# Wait for the threads to finish\n",
    "t1.join()\n",
    "t2.join()\n",
    "\n",
    "print(\"Done\")\n"
   ]
  },
  {
   "cell_type": "code",
   "execution_count": 67,
   "id": "3ad9883c-fad8-4cfb-8c39-7d692fc4e5a4",
   "metadata": {},
   "outputs": [],
   "source": [
    "# In this program, we define two functions print_squares() and print_cubes() that print the squares and cubes of the numbers 1 to 10, respectively. We then create two threads t1 and t2 using the Thread class, passing the functions as targets. Finally, we start the threads using the start() method, and wait for them to finish using the join() method. We also print \"Done\" after the threads have finished executing. When we run this program, we should see output like the following:"
   ]
  },
  {
   "cell_type": "code",
   "execution_count": 68,
   "id": "bae5feaf-9a0e-4365-902b-0ab04912cd71",
   "metadata": {},
   "outputs": [],
   "source": [
    "#ans 5 "
   ]
  },
  {
   "cell_type": "code",
   "execution_count": 69,
   "id": "2d9b0dc0-c3d7-479e-91bc-9c1c4cfe70c5",
   "metadata": {},
   "outputs": [],
   "source": [
    "#Multithreading has the following advantages:\n",
    "\n",
    "# 1. Improved performance: Multithreading allows a program to perform multiple tasks at the same time, thereby improving the overall performance and reducing the time required to complete a task.\n",
    "\n",
    "# 2. Better resource utilization: Multithreading enables better utilization of resources, such as CPU and memory, by allowing multiple threads to share these resources.\n",
    "\n",
    "# 3. Responsiveness: Multithreading can make a program more responsive by allowing it to handle multiple input/output operations simultaneously.\n",
    "\n",
    "# 4. Better user experience: Multithreading can improve the user experience by allowing a program to perform multiple tasks in the background, while the user can continue using the program for other tasks."
   ]
  },
  {
   "cell_type": "code",
   "execution_count": 70,
   "id": "2fc3eb31-7a43-46d4-9527-01cf91a386cd",
   "metadata": {},
   "outputs": [],
   "source": [
    "#However, multithreading also has some disadvantages:\n",
    "\n",
    "# 1. Complexity: Multithreading can add complexity to a program, as it requires careful synchronization of threads to avoid issues such as race conditions, deadlocks, and livelocks.\n",
    "\n",
    "# 2. Overhead: Multithreading can introduce overhead in terms of memory usage and context switching, which can negatively impact performance if not managed properly.\n",
    "\n",
    "# 3. Debugging: Debugging multithreaded programs can be challenging, as issues can be difficult to reproduce and diagnose.\n",
    "\n",
    "# 4. Portability: Multithreaded programs may not be portable across different platforms or operating systems, as the behavior of threads can vary depending on the underlying system."
   ]
  },
  {
   "cell_type": "code",
   "execution_count": null,
   "id": "01b86402-bb5d-4239-8d34-b640f3301944",
   "metadata": {},
   "outputs": [],
   "source": []
  }
 ],
 "metadata": {
  "kernelspec": {
   "display_name": "Python 3 (ipykernel)",
   "language": "python",
   "name": "python3"
  },
  "language_info": {
   "codemirror_mode": {
    "name": "ipython",
    "version": 3
   },
   "file_extension": ".py",
   "mimetype": "text/x-python",
   "name": "python",
   "nbconvert_exporter": "python",
   "pygments_lexer": "ipython3",
   "version": "3.10.8"
  }
 },
 "nbformat": 4,
 "nbformat_minor": 5
}
